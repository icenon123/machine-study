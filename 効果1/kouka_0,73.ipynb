{
  "nbformat": 4,
  "nbformat_minor": 0,
  "metadata": {
    "colab": {
      "name": "kouka_回帰_2181949_廻悠紀.ipynb",
      "provenance": [],
      "collapsed_sections": []
    },
    "kernelspec": {
      "name": "python3",
      "display_name": "Python 3"
    },
    "language_info": {
      "name": "python"
    }
  },
  "cells": [
    {
      "cell_type": "code",
      "execution_count": null,
      "metadata": {
        "id": "heL87kEkgCDF"
      },
      "outputs": [],
      "source": [
        "#ダミー変数化は不要っぽい\n",
        "#正解データ = MPG,燃費?"
      ]
    },
    {
      "cell_type": "code",
      "source": [
        "from pandas.errors import InvalidIndexError\n",
        "import pandas as pd\n",
        "%matplotlib inline\n",
        "from sklearn.linear_model import LinearRegression\n",
        "from sklearn.model_selection import train_test_split\n"
      ],
      "metadata": {
        "id": "l-fRGUtmiNlK"
      },
      "execution_count": 8,
      "outputs": []
    },
    {
      "cell_type": "code",
      "source": [
        "#読み込み\n",
        "df2 = pd.read_csv('auto_mgp.csv')\n",
        "df2"
      ],
      "metadata": {
        "colab": {
          "base_uri": "https://localhost:8080/",
          "height": 424
        },
        "id": "8pjmMvG6vbKG",
        "outputId": "70fd74f7-1676-4d5c-8b41-b3967143a60b"
      },
      "execution_count": 9,
      "outputs": [
        {
          "output_type": "execute_result",
          "data": {
            "text/plain": [
              "     Unnamed: 0   MPG  Cylinders  Displacement  Horsepower  Weight  \\\n",
              "0             0  18.0          8         307.0       130.0    3504   \n",
              "1             1  15.0          8         350.0       165.0    3693   \n",
              "2             2  18.0          8         318.0       150.0    3436   \n",
              "3             3  16.0          8         304.0       150.0    3433   \n",
              "4             4  17.0          8         302.0       140.0    3449   \n",
              "..          ...   ...        ...           ...         ...     ...   \n",
              "393         393  27.0          4         140.0        86.0    2790   \n",
              "394         394  44.0          4          97.0        52.0    2130   \n",
              "395         395  32.0          4         135.0        84.0    2295   \n",
              "396         396  28.0          4         120.0        79.0    2625   \n",
              "397         397  31.0          4         119.0        82.0    2720   \n",
              "\n",
              "     Acceleration  Model Year  Origin  \n",
              "0            12.0          70       1  \n",
              "1            11.5          70       1  \n",
              "2            11.0          70       1  \n",
              "3            12.0          70       1  \n",
              "4            10.5          70       1  \n",
              "..            ...         ...     ...  \n",
              "393          15.6          82       1  \n",
              "394          24.6          82       2  \n",
              "395          11.6          82       1  \n",
              "396          18.6          82       1  \n",
              "397          19.4          82       1  \n",
              "\n",
              "[398 rows x 9 columns]"
            ],
            "text/html": [
              "\n",
              "  <div id=\"df-29fa12ec-44a9-4621-bf3e-34151f8b6b38\">\n",
              "    <div class=\"colab-df-container\">\n",
              "      <div>\n",
              "<style scoped>\n",
              "    .dataframe tbody tr th:only-of-type {\n",
              "        vertical-align: middle;\n",
              "    }\n",
              "\n",
              "    .dataframe tbody tr th {\n",
              "        vertical-align: top;\n",
              "    }\n",
              "\n",
              "    .dataframe thead th {\n",
              "        text-align: right;\n",
              "    }\n",
              "</style>\n",
              "<table border=\"1\" class=\"dataframe\">\n",
              "  <thead>\n",
              "    <tr style=\"text-align: right;\">\n",
              "      <th></th>\n",
              "      <th>Unnamed: 0</th>\n",
              "      <th>MPG</th>\n",
              "      <th>Cylinders</th>\n",
              "      <th>Displacement</th>\n",
              "      <th>Horsepower</th>\n",
              "      <th>Weight</th>\n",
              "      <th>Acceleration</th>\n",
              "      <th>Model Year</th>\n",
              "      <th>Origin</th>\n",
              "    </tr>\n",
              "  </thead>\n",
              "  <tbody>\n",
              "    <tr>\n",
              "      <th>0</th>\n",
              "      <td>0</td>\n",
              "      <td>18.0</td>\n",
              "      <td>8</td>\n",
              "      <td>307.0</td>\n",
              "      <td>130.0</td>\n",
              "      <td>3504</td>\n",
              "      <td>12.0</td>\n",
              "      <td>70</td>\n",
              "      <td>1</td>\n",
              "    </tr>\n",
              "    <tr>\n",
              "      <th>1</th>\n",
              "      <td>1</td>\n",
              "      <td>15.0</td>\n",
              "      <td>8</td>\n",
              "      <td>350.0</td>\n",
              "      <td>165.0</td>\n",
              "      <td>3693</td>\n",
              "      <td>11.5</td>\n",
              "      <td>70</td>\n",
              "      <td>1</td>\n",
              "    </tr>\n",
              "    <tr>\n",
              "      <th>2</th>\n",
              "      <td>2</td>\n",
              "      <td>18.0</td>\n",
              "      <td>8</td>\n",
              "      <td>318.0</td>\n",
              "      <td>150.0</td>\n",
              "      <td>3436</td>\n",
              "      <td>11.0</td>\n",
              "      <td>70</td>\n",
              "      <td>1</td>\n",
              "    </tr>\n",
              "    <tr>\n",
              "      <th>3</th>\n",
              "      <td>3</td>\n",
              "      <td>16.0</td>\n",
              "      <td>8</td>\n",
              "      <td>304.0</td>\n",
              "      <td>150.0</td>\n",
              "      <td>3433</td>\n",
              "      <td>12.0</td>\n",
              "      <td>70</td>\n",
              "      <td>1</td>\n",
              "    </tr>\n",
              "    <tr>\n",
              "      <th>4</th>\n",
              "      <td>4</td>\n",
              "      <td>17.0</td>\n",
              "      <td>8</td>\n",
              "      <td>302.0</td>\n",
              "      <td>140.0</td>\n",
              "      <td>3449</td>\n",
              "      <td>10.5</td>\n",
              "      <td>70</td>\n",
              "      <td>1</td>\n",
              "    </tr>\n",
              "    <tr>\n",
              "      <th>...</th>\n",
              "      <td>...</td>\n",
              "      <td>...</td>\n",
              "      <td>...</td>\n",
              "      <td>...</td>\n",
              "      <td>...</td>\n",
              "      <td>...</td>\n",
              "      <td>...</td>\n",
              "      <td>...</td>\n",
              "      <td>...</td>\n",
              "    </tr>\n",
              "    <tr>\n",
              "      <th>393</th>\n",
              "      <td>393</td>\n",
              "      <td>27.0</td>\n",
              "      <td>4</td>\n",
              "      <td>140.0</td>\n",
              "      <td>86.0</td>\n",
              "      <td>2790</td>\n",
              "      <td>15.6</td>\n",
              "      <td>82</td>\n",
              "      <td>1</td>\n",
              "    </tr>\n",
              "    <tr>\n",
              "      <th>394</th>\n",
              "      <td>394</td>\n",
              "      <td>44.0</td>\n",
              "      <td>4</td>\n",
              "      <td>97.0</td>\n",
              "      <td>52.0</td>\n",
              "      <td>2130</td>\n",
              "      <td>24.6</td>\n",
              "      <td>82</td>\n",
              "      <td>2</td>\n",
              "    </tr>\n",
              "    <tr>\n",
              "      <th>395</th>\n",
              "      <td>395</td>\n",
              "      <td>32.0</td>\n",
              "      <td>4</td>\n",
              "      <td>135.0</td>\n",
              "      <td>84.0</td>\n",
              "      <td>2295</td>\n",
              "      <td>11.6</td>\n",
              "      <td>82</td>\n",
              "      <td>1</td>\n",
              "    </tr>\n",
              "    <tr>\n",
              "      <th>396</th>\n",
              "      <td>396</td>\n",
              "      <td>28.0</td>\n",
              "      <td>4</td>\n",
              "      <td>120.0</td>\n",
              "      <td>79.0</td>\n",
              "      <td>2625</td>\n",
              "      <td>18.6</td>\n",
              "      <td>82</td>\n",
              "      <td>1</td>\n",
              "    </tr>\n",
              "    <tr>\n",
              "      <th>397</th>\n",
              "      <td>397</td>\n",
              "      <td>31.0</td>\n",
              "      <td>4</td>\n",
              "      <td>119.0</td>\n",
              "      <td>82.0</td>\n",
              "      <td>2720</td>\n",
              "      <td>19.4</td>\n",
              "      <td>82</td>\n",
              "      <td>1</td>\n",
              "    </tr>\n",
              "  </tbody>\n",
              "</table>\n",
              "<p>398 rows × 9 columns</p>\n",
              "</div>\n",
              "      <button class=\"colab-df-convert\" onclick=\"convertToInteractive('df-29fa12ec-44a9-4621-bf3e-34151f8b6b38')\"\n",
              "              title=\"Convert this dataframe to an interactive table.\"\n",
              "              style=\"display:none;\">\n",
              "        \n",
              "  <svg xmlns=\"http://www.w3.org/2000/svg\" height=\"24px\"viewBox=\"0 0 24 24\"\n",
              "       width=\"24px\">\n",
              "    <path d=\"M0 0h24v24H0V0z\" fill=\"none\"/>\n",
              "    <path d=\"M18.56 5.44l.94 2.06.94-2.06 2.06-.94-2.06-.94-.94-2.06-.94 2.06-2.06.94zm-11 1L8.5 8.5l.94-2.06 2.06-.94-2.06-.94L8.5 2.5l-.94 2.06-2.06.94zm10 10l.94 2.06.94-2.06 2.06-.94-2.06-.94-.94-2.06-.94 2.06-2.06.94z\"/><path d=\"M17.41 7.96l-1.37-1.37c-.4-.4-.92-.59-1.43-.59-.52 0-1.04.2-1.43.59L10.3 9.45l-7.72 7.72c-.78.78-.78 2.05 0 2.83L4 21.41c.39.39.9.59 1.41.59.51 0 1.02-.2 1.41-.59l7.78-7.78 2.81-2.81c.8-.78.8-2.07 0-2.86zM5.41 20L4 18.59l7.72-7.72 1.47 1.35L5.41 20z\"/>\n",
              "  </svg>\n",
              "      </button>\n",
              "      \n",
              "  <style>\n",
              "    .colab-df-container {\n",
              "      display:flex;\n",
              "      flex-wrap:wrap;\n",
              "      gap: 12px;\n",
              "    }\n",
              "\n",
              "    .colab-df-convert {\n",
              "      background-color: #E8F0FE;\n",
              "      border: none;\n",
              "      border-radius: 50%;\n",
              "      cursor: pointer;\n",
              "      display: none;\n",
              "      fill: #1967D2;\n",
              "      height: 32px;\n",
              "      padding: 0 0 0 0;\n",
              "      width: 32px;\n",
              "    }\n",
              "\n",
              "    .colab-df-convert:hover {\n",
              "      background-color: #E2EBFA;\n",
              "      box-shadow: 0px 1px 2px rgba(60, 64, 67, 0.3), 0px 1px 3px 1px rgba(60, 64, 67, 0.15);\n",
              "      fill: #174EA6;\n",
              "    }\n",
              "\n",
              "    [theme=dark] .colab-df-convert {\n",
              "      background-color: #3B4455;\n",
              "      fill: #D2E3FC;\n",
              "    }\n",
              "\n",
              "    [theme=dark] .colab-df-convert:hover {\n",
              "      background-color: #434B5C;\n",
              "      box-shadow: 0px 1px 3px 1px rgba(0, 0, 0, 0.15);\n",
              "      filter: drop-shadow(0px 1px 2px rgba(0, 0, 0, 0.3));\n",
              "      fill: #FFFFFF;\n",
              "    }\n",
              "  </style>\n",
              "\n",
              "      <script>\n",
              "        const buttonEl =\n",
              "          document.querySelector('#df-29fa12ec-44a9-4621-bf3e-34151f8b6b38 button.colab-df-convert');\n",
              "        buttonEl.style.display =\n",
              "          google.colab.kernel.accessAllowed ? 'block' : 'none';\n",
              "\n",
              "        async function convertToInteractive(key) {\n",
              "          const element = document.querySelector('#df-29fa12ec-44a9-4621-bf3e-34151f8b6b38');\n",
              "          const dataTable =\n",
              "            await google.colab.kernel.invokeFunction('convertToInteractive',\n",
              "                                                     [key], {});\n",
              "          if (!dataTable) return;\n",
              "\n",
              "          const docLinkHtml = 'Like what you see? Visit the ' +\n",
              "            '<a target=\"_blank\" href=https://colab.research.google.com/notebooks/data_table.ipynb>data table notebook</a>'\n",
              "            + ' to learn more about interactive tables.';\n",
              "          element.innerHTML = '';\n",
              "          dataTable['output_type'] = 'display_data';\n",
              "          await google.colab.output.renderOutput(dataTable, element);\n",
              "          const docLink = document.createElement('div');\n",
              "          docLink.innerHTML = docLinkHtml;\n",
              "          element.appendChild(docLink);\n",
              "        }\n",
              "      </script>\n",
              "    </div>\n",
              "  </div>\n",
              "  "
            ]
          },
          "metadata": {},
          "execution_count": 9
        }
      ]
    },
    {
      "cell_type": "code",
      "source": [
        "train_val,test = train_test_split(df2,test_size = 0.2,\n",
        "                                  random_state = 0)"
      ],
      "metadata": {
        "id": "QkWdt77cwWzq"
      },
      "execution_count": 10,
      "outputs": []
    },
    {
      "cell_type": "code",
      "source": [
        "train_val.isnull().sum()"
      ],
      "metadata": {
        "colab": {
          "base_uri": "https://localhost:8080/"
        },
        "id": "MUo43wMqxJRi",
        "outputId": "680fdee9-8e0a-4f10-aebd-83671d1959b6"
      },
      "execution_count": 11,
      "outputs": [
        {
          "output_type": "execute_result",
          "data": {
            "text/plain": [
              "Unnamed: 0      0\n",
              "MPG             0\n",
              "Cylinders       0\n",
              "Displacement    0\n",
              "Horsepower      5\n",
              "Weight          0\n",
              "Acceleration    0\n",
              "Model Year      0\n",
              "Origin          0\n",
              "dtype: int64"
            ]
          },
          "metadata": {},
          "execution_count": 11
        }
      ]
    },
    {
      "cell_type": "code",
      "source": [
        "train_val_mean = train_val.mean()\n",
        "train_val2=train_val.fillna(train_val_mean)\n"
      ],
      "metadata": {
        "id": "ka8UYofJxWge"
      },
      "execution_count": 12,
      "outputs": []
    },
    {
      "cell_type": "code",
      "source": [
        "#欠損値の確認\n",
        "train_val2.isnull().sum()"
      ],
      "metadata": {
        "colab": {
          "base_uri": "https://localhost:8080/"
        },
        "id": "xp-eSeSqxz_1",
        "outputId": "3a16d9c4-f56e-4eb3-e7ff-f6b90ec2afd2"
      },
      "execution_count": 13,
      "outputs": [
        {
          "output_type": "execute_result",
          "data": {
            "text/plain": [
              "Unnamed: 0      0\n",
              "MPG             0\n",
              "Cylinders       0\n",
              "Displacement    0\n",
              "Horsepower      0\n",
              "Weight          0\n",
              "Acceleration    0\n",
              "Model Year      0\n",
              "Origin          0\n",
              "dtype: int64"
            ]
          },
          "metadata": {},
          "execution_count": 13
        }
      ]
    },
    {
      "cell_type": "code",
      "source": [
        "#散布図を描写して外れ値を探す\n",
        "colname = train_val2.columns\n",
        "for name in colname:\n",
        "  train_val2.plot(kind = 'scatter',x = name,y = 'MPG')"
      ],
      "metadata": {
        "colab": {
          "base_uri": "https://localhost:8080/",
          "height": 1000
        },
        "id": "8tXgLxIax5A6",
        "outputId": "2b40b001-b63f-4e4d-f55a-3c259f455d33"
      },
      "execution_count": 14,
      "outputs": [
        {
          "output_type": "display_data",
          "data": {
            "text/plain": [
              "<Figure size 432x288 with 1 Axes>"
            ],
            "image/png": "[encoded data removed]"
          },
          "metadata": {
            "needs_background": "light"
          }
        },
        {
          "output_type": "display_data",
          "data": {
            "text/plain": [
              "<Figure size 432x288 with 1 Axes>"
            ],
            "image/png": "[encoded data removed]"
          },
          "metadata": {
            "needs_background": "light"
          }
        },
        {
          "output_type": "display_data",
          "data": {
            "text/plain": [
              "<Figure size 432x288 with 1 Axes>"
            ],
            "image/png": "[encoded data removed]"
          },
          "metadata": {
            "needs_background": "light"
          }
        },
        {
          "output_type": "display_data",
          "data": {
            "text/plain": [
              "<Figure size 432x288 with 1 Axes>"
            ],
            "image/png": "[encoded data removed]"
          },
          "metadata": {
            "needs_background": "light"
          }
        },
        {
          "output_type": "display_data",
          "data": {
            "text/plain": [
              "<Figure size 432x288 with 1 Axes>"
            ],
            "image/png": "[encoded data removed]"
          },
          "metadata": {
            "needs_background": "light"
          }
        },
        {
          "output_type": "display_data",
          "data": {
            "text/plain": [
              "<Figure size 432x288 with 1 Axes>"
            ],
            "image/png": "[encoded data removed]"
          },
          "metadata": {
            "needs_background": "light"
          }
        },
        {
          "output_type": "display_data",
          "data": {
            "text/plain": [
              "<Figure size 432x288 with 1 Axes>"
            ],
            "image/png": "[encoded data removed]"
          },
          "metadata": {
            "needs_background": "light"
          }
        },
        {
          "output_type": "display_data",
          "data": {
            "text/plain": [
              "<Figure size 432x288 with 1 Axes>"
            ],
            "image/png": "[encoded data removed]"
          },
          "metadata": {
            "needs_background": "light"
          }
        },
        {
          "output_type": "display_data",
          "data": {
            "text/plain": [
              "<Figure size 432x288 with 1 Axes>"
            ],
            "image/png": "[encoded data removed]"
          },
          "metadata": {
            "needs_background": "light"
          }
        }
      ]
    },
    {
      "cell_type": "code",
      "source": [
        "#外れ値のあるインデックスを確認\n",
        "out_line1 = train_val2[(train_val2['MPG'] > 35) &\n",
        "                       (train_val2['Displacement'] > 250)].index\n",
        "print(out_line1)"
      ],
      "metadata": {
        "colab": {
          "base_uri": "https://localhost:8080/"
        },
        "id": "PpxiDLC9zLGv",
        "outputId": "0932fa52-d6d0-4949-be97-f02de8ab134b"
      },
      "execution_count": 15,
      "outputs": [
        {
          "output_type": "stream",
          "name": "stdout",
          "text": [
            "Int64Index([387], dtype='int64')\n"
          ]
        }
      ]
    },
    {
      "cell_type": "code",
      "source": [
        "train_val3 =train_val2.drop([387],axis = 0)"
      ],
      "metadata": {
        "id": "JRC2jHd017x2"
      },
      "execution_count": 16,
      "outputs": []
    },
    {
      "cell_type": "markdown",
      "source": [
        "外れ値削除\n"
      ],
      "metadata": {
        "id": "zVQV1u8nO0KF"
      }
    },
    {
      "cell_type": "code",
      "source": [
        "colname = train_val3.columns\n",
        "for name in colname:\n",
        "  train_val3.plot(kind = 'scatter',x = name,y = 'MPG')"
      ],
      "metadata": {
        "colab": {
          "base_uri": "https://localhost:8080/",
          "height": 1000
        },
        "id": "g4HmN8D324FB",
        "outputId": "c8fbba75-6dca-48b4-93bd-42a2e2a8f4fd"
      },
      "execution_count": 17,
      "outputs": [
        {
          "output_type": "display_data",
          "data": {
            "text/plain": [
              "<Figure size 432x288 with 1 Axes>"
            ],
            "image/png": "[encoded data removed]"
          },
          "metadata": {
            "needs_background": "light"
          }
        },
        {
          "output_type": "display_data",
          "data": {
            "text/plain": [
              "<Figure size 432x288 with 1 Axes>"
            ],
            "image/png": "[encoded data removed]"
          },
          "metadata": {
            "needs_background": "light"
          }
        },
        {
          "output_type": "display_data",
          "data": {
            "text/plain": [
              "<Figure size 432x288 with 1 Axes>"
            ],
            "image/png": "[encoded data removed]"
          },
          "metadata": {
            "needs_background": "light"
          }
        },
        {
          "output_type": "display_data",
          "data": {
            "text/plain": [
              "<Figure size 432x288 with 1 Axes>"
            ],
            "image/png": "[encoded data removed]"
          },
          "metadata": {
            "needs_background": "light"
          }
        },
        {
          "output_type": "display_data",
          "data": {
            "text/plain": [
              "<Figure size 432x288 with 1 Axes>"
            ],
            "image/png": "[encoded data removed]"
          },
          "metadata": {
            "needs_background": "light"
          }
        },
        {
          "output_type": "display_data",
          "data": {
            "text/plain": [
              "<Figure size 432x288 with 1 Axes>"
            ],
            "image/png": "[encoded data removed]"
          },
          "metadata": {
            "needs_background": "light"
          }
        },
        {
          "output_type": "display_data",
          "data": {
            "text/plain": [
              "<Figure size 432x288 with 1 Axes>"
            ],
            "image/png": "[encoded data removed]"
          },
          "metadata": {
            "needs_background": "light"
          }
        },
        {
          "output_type": "display_data",
          "data": {
            "text/plain": [
              "<Figure size 432x288 with 1 Axes>"
            ],
            "image/png": "[encoded data removed]"
          },
          "metadata": {
            "needs_background": "light"
          }
        },
        {
          "output_type": "display_data",
          "data": {
            "text/plain": [
              "<Figure size 432x288 with 1 Axes>"
            ],
            "image/png": "[encoded data removed]"
          },
          "metadata": {
            "needs_background": "light"
          }
        }
      ]
    },
    {
      "cell_type": "code",
      "source": [
        "col = ['MPG','Cylinders','Displacement','Horsepower','Weight','Acceleration','Model Year','Origin']\n",
        "\n",
        "train_val4 = train_val3[col]\n",
        "train_val4.head(3)"
      ],
      "metadata": {
        "colab": {
          "base_uri": "https://localhost:8080/",
          "height": 143
        },
        "id": "6z64Qns03_sA",
        "outputId": "2ced933f-18b5-40cf-9369-831673c90973"
      },
      "execution_count": 18,
      "outputs": [
        {
          "output_type": "execute_result",
          "data": {
            "text/plain": [
              "      MPG  Cylinders  Displacement  Horsepower  Weight  Acceleration  \\\n",
              "64   15.0          8         318.0       150.0    4135          13.5   \n",
              "55   27.0          4          97.0        60.0    1834          19.0   \n",
              "317  34.3          4          97.0        78.0    2188          15.8   \n",
              "\n",
              "     Model Year  Origin  \n",
              "64           72       1  \n",
              "55           71       2  \n",
              "317          80       2  "
            ],
            "text/html": [
              "\n",
              "  <div id=\"df-89d92de1-c4fb-4c8f-b256-dedd2fed1be7\">\n",
              "    <div class=\"colab-df-container\">\n",
              "      <div>\n",
              "<style scoped>\n",
              "    .dataframe tbody tr th:only-of-type {\n",
              "        vertical-align: middle;\n",
              "    }\n",
              "\n",
              "    .dataframe tbody tr th {\n",
              "        vertical-align: top;\n",
              "    }\n",
              "\n",
              "    .dataframe thead th {\n",
              "        text-align: right;\n",
              "    }\n",
              "</style>\n",
              "<table border=\"1\" class=\"dataframe\">\n",
              "  <thead>\n",
              "    <tr style=\"text-align: right;\">\n",
              "      <th></th>\n",
              "      <th>MPG</th>\n",
              "      <th>Cylinders</th>\n",
              "      <th>Displacement</th>\n",
              "      <th>Horsepower</th>\n",
              "      <th>Weight</th>\n",
              "      <th>Acceleration</th>\n",
              "      <th>Model Year</th>\n",
              "      <th>Origin</th>\n",
              "    </tr>\n",
              "  </thead>\n",
              "  <tbody>\n",
              "    <tr>\n",
              "      <th>64</th>\n",
              "      <td>15.0</td>\n",
              "      <td>8</td>\n",
              "      <td>318.0</td>\n",
              "      <td>150.0</td>\n",
              "      <td>4135</td>\n",
              "      <td>13.5</td>\n",
              "      <td>72</td>\n",
              "      <td>1</td>\n",
              "    </tr>\n",
              "    <tr>\n",
              "      <th>55</th>\n",
              "      <td>27.0</td>\n",
              "      <td>4</td>\n",
              "      <td>97.0</td>\n",
              "      <td>60.0</td>\n",
              "      <td>1834</td>\n",
              "      <td>19.0</td>\n",
              "      <td>71</td>\n",
              "      <td>2</td>\n",
              "    </tr>\n",
              "    <tr>\n",
              "      <th>317</th>\n",
              "      <td>34.3</td>\n",
              "      <td>4</td>\n",
              "      <td>97.0</td>\n",
              "      <td>78.0</td>\n",
              "      <td>2188</td>\n",
              "      <td>15.8</td>\n",
              "      <td>80</td>\n",
              "      <td>2</td>\n",
              "    </tr>\n",
              "  </tbody>\n",
              "</table>\n",
              "</div>\n",
              "      <button class=\"colab-df-convert\" onclick=\"convertToInteractive('df-89d92de1-c4fb-4c8f-b256-dedd2fed1be7')\"\n",
              "              title=\"Convert this dataframe to an interactive table.\"\n",
              "              style=\"display:none;\">\n",
              "        \n",
              "  <svg xmlns=\"http://www.w3.org/2000/svg\" height=\"24px\"viewBox=\"0 0 24 24\"\n",
              "       width=\"24px\">\n",
              "    <path d=\"M0 0h24v24H0V0z\" fill=\"none\"/>\n",
              "    <path d=\"M18.56 5.44l.94 2.06.94-2.06 2.06-.94-2.06-.94-.94-2.06-.94 2.06-2.06.94zm-11 1L8.5 8.5l.94-2.06 2.06-.94-2.06-.94L8.5 2.5l-.94 2.06-2.06.94zm10 10l.94 2.06.94-2.06 2.06-.94-2.06-.94-.94-2.06-.94 2.06-2.06.94z\"/><path d=\"M17.41 7.96l-1.37-1.37c-.4-.4-.92-.59-1.43-.59-.52 0-1.04.2-1.43.59L10.3 9.45l-7.72 7.72c-.78.78-.78 2.05 0 2.83L4 21.41c.39.39.9.59 1.41.59.51 0 1.02-.2 1.41-.59l7.78-7.78 2.81-2.81c.8-.78.8-2.07 0-2.86zM5.41 20L4 18.59l7.72-7.72 1.47 1.35L5.41 20z\"/>\n",
              "  </svg>\n",
              "      </button>\n",
              "      \n",
              "  <style>\n",
              "    .colab-df-container {\n",
              "      display:flex;\n",
              "      flex-wrap:wrap;\n",
              "      gap: 12px;\n",
              "    }\n",
              "\n",
              "    .colab-df-convert {\n",
              "      background-color: #E8F0FE;\n",
              "      border: none;\n",
              "      border-radius: 50%;\n",
              "      cursor: pointer;\n",
              "      display: none;\n",
              "      fill: #1967D2;\n",
              "      height: 32px;\n",
              "      padding: 0 0 0 0;\n",
              "      width: 32px;\n",
              "    }\n",
              "\n",
              "    .colab-df-convert:hover {\n",
              "      background-color: #E2EBFA;\n",
              "      box-shadow: 0px 1px 2px rgba(60, 64, 67, 0.3), 0px 1px 3px 1px rgba(60, 64, 67, 0.15);\n",
              "      fill: #174EA6;\n",
              "    }\n",
              "\n",
              "    [theme=dark] .colab-df-convert {\n",
              "      background-color: #3B4455;\n",
              "      fill: #D2E3FC;\n",
              "    }\n",
              "\n",
              "    [theme=dark] .colab-df-convert:hover {\n",
              "      background-color: #434B5C;\n",
              "      box-shadow: 0px 1px 3px 1px rgba(0, 0, 0, 0.15);\n",
              "      filter: drop-shadow(0px 1px 2px rgba(0, 0, 0, 0.3));\n",
              "      fill: #FFFFFF;\n",
              "    }\n",
              "  </style>\n",
              "\n",
              "      <script>\n",
              "        const buttonEl =\n",
              "          document.querySelector('#df-89d92de1-c4fb-4c8f-b256-dedd2fed1be7 button.colab-df-convert');\n",
              "        buttonEl.style.display =\n",
              "          google.colab.kernel.accessAllowed ? 'block' : 'none';\n",
              "\n",
              "        async function convertToInteractive(key) {\n",
              "          const element = document.querySelector('#df-89d92de1-c4fb-4c8f-b256-dedd2fed1be7');\n",
              "          const dataTable =\n",
              "            await google.colab.kernel.invokeFunction('convertToInteractive',\n",
              "                                                     [key], {});\n",
              "          if (!dataTable) return;\n",
              "\n",
              "          const docLinkHtml = 'Like what you see? Visit the ' +\n",
              "            '<a target=\"_blank\" href=https://colab.research.google.com/notebooks/data_table.ipynb>data table notebook</a>'\n",
              "            + ' to learn more about interactive tables.';\n",
              "          element.innerHTML = '';\n",
              "          dataTable['output_type'] = 'display_data';\n",
              "          await google.colab.output.renderOutput(dataTable, element);\n",
              "          const docLink = document.createElement('div');\n",
              "          docLink.innerHTML = docLinkHtml;\n",
              "          element.appendChild(docLink);\n",
              "        }\n",
              "      </script>\n",
              "    </div>\n",
              "  </div>\n",
              "  "
            ]
          },
          "metadata": {},
          "execution_count": 18
        }
      ]
    },
    {
      "cell_type": "code",
      "source": [
        "train_val4.corr()"
      ],
      "metadata": {
        "colab": {
          "base_uri": "https://localhost:8080/",
          "height": 300
        },
        "id": "KHnhle8o5VCs",
        "outputId": "f13b2471-91ca-4b5c-8284-95db5504af76"
      },
      "execution_count": 19,
      "outputs": [
        {
          "output_type": "execute_result",
          "data": {
            "text/plain": [
              "                   MPG  Cylinders  Displacement  Horsepower    Weight  \\\n",
              "MPG           1.000000  -0.772369     -0.807965   -0.788586 -0.828652   \n",
              "Cylinders    -0.772369   1.000000      0.950480    0.835923  0.892465   \n",
              "Displacement -0.807965   0.950480      1.000000    0.894243  0.933676   \n",
              "Horsepower   -0.788586   0.835923      0.894243    1.000000  0.863366   \n",
              "Weight       -0.828652   0.892465      0.933676    0.863366  1.000000   \n",
              "Acceleration  0.462570  -0.505272     -0.542653   -0.682464 -0.420461   \n",
              "Model Year    0.569262  -0.333773     -0.353566   -0.407420 -0.292003   \n",
              "Origin        0.582215  -0.567765     -0.619901   -0.473434 -0.592483   \n",
              "\n",
              "              Acceleration  Model Year    Origin  \n",
              "MPG               0.462570    0.569262  0.582215  \n",
              "Cylinders        -0.505272   -0.333773 -0.567765  \n",
              "Displacement     -0.542653   -0.353566 -0.619901  \n",
              "Horsepower       -0.682464   -0.407420 -0.473434  \n",
              "Weight           -0.420461   -0.292003 -0.592483  \n",
              "Acceleration      1.000000    0.309400  0.219888  \n",
              "Model Year        0.309400    1.000000  0.183413  \n",
              "Origin            0.219888    0.183413  1.000000  "
            ],
            "text/html": [
              "\n",
              "  <div id=\"df-f2d385c4-0613-4e72-9fd5-16483836a414\">\n",
              "    <div class=\"colab-df-container\">\n",
              "      <div>\n",
              "<style scoped>\n",
              "    .dataframe tbody tr th:only-of-type {\n",
              "        vertical-align: middle;\n",
              "    }\n",
              "\n",
              "    .dataframe tbody tr th {\n",
              "        vertical-align: top;\n",
              "    }\n",
              "\n",
              "    .dataframe thead th {\n",
              "        text-align: right;\n",
              "    }\n",
              "</style>\n",
              "<table border=\"1\" class=\"dataframe\">\n",
              "  <thead>\n",
              "    <tr style=\"text-align: right;\">\n",
              "      <th></th>\n",
              "      <th>MPG</th>\n",
              "      <th>Cylinders</th>\n",
              "      <th>Displacement</th>\n",
              "      <th>Horsepower</th>\n",
              "      <th>Weight</th>\n",
              "      <th>Acceleration</th>\n",
              "      <th>Model Year</th>\n",
              "      <th>Origin</th>\n",
              "    </tr>\n",
              "  </thead>\n",
              "  <tbody>\n",
              "    <tr>\n",
              "      <th>MPG</th>\n",
              "      <td>1.000000</td>\n",
              "      <td>-0.772369</td>\n",
              "      <td>-0.807965</td>\n",
              "      <td>-0.788586</td>\n",
              "      <td>-0.828652</td>\n",
              "      <td>0.462570</td>\n",
              "      <td>0.569262</td>\n",
              "      <td>0.582215</td>\n",
              "    </tr>\n",
              "    <tr>\n",
              "      <th>Cylinders</th>\n",
              "      <td>-0.772369</td>\n",
              "      <td>1.000000</td>\n",
              "      <td>0.950480</td>\n",
              "      <td>0.835923</td>\n",
              "      <td>0.892465</td>\n",
              "      <td>-0.505272</td>\n",
              "      <td>-0.333773</td>\n",
              "      <td>-0.567765</td>\n",
              "    </tr>\n",
              "    <tr>\n",
              "      <th>Displacement</th>\n",
              "      <td>-0.807965</td>\n",
              "      <td>0.950480</td>\n",
              "      <td>1.000000</td>\n",
              "      <td>0.894243</td>\n",
              "      <td>0.933676</td>\n",
              "      <td>-0.542653</td>\n",
              "      <td>-0.353566</td>\n",
              "      <td>-0.619901</td>\n",
              "    </tr>\n",
              "    <tr>\n",
              "      <th>Horsepower</th>\n",
              "      <td>-0.788586</td>\n",
              "      <td>0.835923</td>\n",
              "      <td>0.894243</td>\n",
              "      <td>1.000000</td>\n",
              "      <td>0.863366</td>\n",
              "      <td>-0.682464</td>\n",
              "      <td>-0.407420</td>\n",
              "      <td>-0.473434</td>\n",
              "    </tr>\n",
              "    <tr>\n",
              "      <th>Weight</th>\n",
              "      <td>-0.828652</td>\n",
              "      <td>0.892465</td>\n",
              "      <td>0.933676</td>\n",
              "      <td>0.863366</td>\n",
              "      <td>1.000000</td>\n",
              "      <td>-0.420461</td>\n",
              "      <td>-0.292003</td>\n",
              "      <td>-0.592483</td>\n",
              "    </tr>\n",
              "    <tr>\n",
              "      <th>Acceleration</th>\n",
              "      <td>0.462570</td>\n",
              "      <td>-0.505272</td>\n",
              "      <td>-0.542653</td>\n",
              "      <td>-0.682464</td>\n",
              "      <td>-0.420461</td>\n",
              "      <td>1.000000</td>\n",
              "      <td>0.309400</td>\n",
              "      <td>0.219888</td>\n",
              "    </tr>\n",
              "    <tr>\n",
              "      <th>Model Year</th>\n",
              "      <td>0.569262</td>\n",
              "      <td>-0.333773</td>\n",
              "      <td>-0.353566</td>\n",
              "      <td>-0.407420</td>\n",
              "      <td>-0.292003</td>\n",
              "      <td>0.309400</td>\n",
              "      <td>1.000000</td>\n",
              "      <td>0.183413</td>\n",
              "    </tr>\n",
              "    <tr>\n",
              "      <th>Origin</th>\n",
              "      <td>0.582215</td>\n",
              "      <td>-0.567765</td>\n",
              "      <td>-0.619901</td>\n",
              "      <td>-0.473434</td>\n",
              "      <td>-0.592483</td>\n",
              "      <td>0.219888</td>\n",
              "      <td>0.183413</td>\n",
              "      <td>1.000000</td>\n",
              "    </tr>\n",
              "  </tbody>\n",
              "</table>\n",
              "</div>\n",
              "      <button class=\"colab-df-convert\" onclick=\"convertToInteractive('df-f2d385c4-0613-4e72-9fd5-16483836a414')\"\n",
              "              title=\"Convert this dataframe to an interactive table.\"\n",
              "              style=\"display:none;\">\n",
              "        \n",
              "  <svg xmlns=\"http://www.w3.org/2000/svg\" height=\"24px\"viewBox=\"0 0 24 24\"\n",
              "       width=\"24px\">\n",
              "    <path d=\"M0 0h24v24H0V0z\" fill=\"none\"/>\n",
              "    <path d=\"M18.56 5.44l.94 2.06.94-2.06 2.06-.94-2.06-.94-.94-2.06-.94 2.06-2.06.94zm-11 1L8.5 8.5l.94-2.06 2.06-.94-2.06-.94L8.5 2.5l-.94 2.06-2.06.94zm10 10l.94 2.06.94-2.06 2.06-.94-2.06-.94-.94-2.06-.94 2.06-2.06.94z\"/><path d=\"M17.41 7.96l-1.37-1.37c-.4-.4-.92-.59-1.43-.59-.52 0-1.04.2-1.43.59L10.3 9.45l-7.72 7.72c-.78.78-.78 2.05 0 2.83L4 21.41c.39.39.9.59 1.41.59.51 0 1.02-.2 1.41-.59l7.78-7.78 2.81-2.81c.8-.78.8-2.07 0-2.86zM5.41 20L4 18.59l7.72-7.72 1.47 1.35L5.41 20z\"/>\n",
              "  </svg>\n",
              "      </button>\n",
              "      \n",
              "  <style>\n",
              "    .colab-df-container {\n",
              "      display:flex;\n",
              "      flex-wrap:wrap;\n",
              "      gap: 12px;\n",
              "    }\n",
              "\n",
              "    .colab-df-convert {\n",
              "      background-color: #E8F0FE;\n",
              "      border: none;\n",
              "      border-radius: 50%;\n",
              "      cursor: pointer;\n",
              "      display: none;\n",
              "      fill: #1967D2;\n",
              "      height: 32px;\n",
              "      padding: 0 0 0 0;\n",
              "      width: 32px;\n",
              "    }\n",
              "\n",
              "    .colab-df-convert:hover {\n",
              "      background-color: #E2EBFA;\n",
              "      box-shadow: 0px 1px 2px rgba(60, 64, 67, 0.3), 0px 1px 3px 1px rgba(60, 64, 67, 0.15);\n",
              "      fill: #174EA6;\n",
              "    }\n",
              "\n",
              "    [theme=dark] .colab-df-convert {\n",
              "      background-color: #3B4455;\n",
              "      fill: #D2E3FC;\n",
              "    }\n",
              "\n",
              "    [theme=dark] .colab-df-convert:hover {\n",
              "      background-color: #434B5C;\n",
              "      box-shadow: 0px 1px 3px 1px rgba(0, 0, 0, 0.15);\n",
              "      filter: drop-shadow(0px 1px 2px rgba(0, 0, 0, 0.3));\n",
              "      fill: #FFFFFF;\n",
              "    }\n",
              "  </style>\n",
              "\n",
              "      <script>\n",
              "        const buttonEl =\n",
              "          document.querySelector('#df-f2d385c4-0613-4e72-9fd5-16483836a414 button.colab-df-convert');\n",
              "        buttonEl.style.display =\n",
              "          google.colab.kernel.accessAllowed ? 'block' : 'none';\n",
              "\n",
              "        async function convertToInteractive(key) {\n",
              "          const element = document.querySelector('#df-f2d385c4-0613-4e72-9fd5-16483836a414');\n",
              "          const dataTable =\n",
              "            await google.colab.kernel.invokeFunction('convertToInteractive',\n",
              "                                                     [key], {});\n",
              "          if (!dataTable) return;\n",
              "\n",
              "          const docLinkHtml = 'Like what you see? Visit the ' +\n",
              "            '<a target=\"_blank\" href=https://colab.research.google.com/notebooks/data_table.ipynb>data table notebook</a>'\n",
              "            + ' to learn more about interactive tables.';\n",
              "          element.innerHTML = '';\n",
              "          dataTable['output_type'] = 'display_data';\n",
              "          await google.colab.output.renderOutput(dataTable, element);\n",
              "          const docLink = document.createElement('div');\n",
              "          docLink.innerHTML = docLinkHtml;\n",
              "          element.appendChild(docLink);\n",
              "        }\n",
              "      </script>\n",
              "    </div>\n",
              "  </div>\n",
              "  "
            ]
          },
          "metadata": {},
          "execution_count": 19
        }
      ]
    },
    {
      "cell_type": "code",
      "source": [
        "train_cor = train_val4.corr()['MPG']\n",
        "train_cor"
      ],
      "metadata": {
        "colab": {
          "base_uri": "https://localhost:8080/"
        },
        "id": "tKN7DAkt5wU4",
        "outputId": "44e57b82-a578-4ce7-d3bd-b8fb486e4eb4"
      },
      "execution_count": 20,
      "outputs": [
        {
          "output_type": "execute_result",
          "data": {
            "text/plain": [
              "MPG             1.000000\n",
              "Cylinders      -0.772369\n",
              "Displacement   -0.807965\n",
              "Horsepower     -0.788586\n",
              "Weight         -0.828652\n",
              "Acceleration    0.462570\n",
              "Model Year      0.569262\n",
              "Origin          0.582215\n",
              "Name: MPG, dtype: float64"
            ]
          },
          "metadata": {},
          "execution_count": 20
        }
      ]
    },
    {
      "cell_type": "code",
      "source": [
        "print(abs(1))\n",
        "print(abs(-2))"
      ],
      "metadata": {
        "colab": {
          "base_uri": "https://localhost:8080/"
        },
        "id": "rcISzC_S5-T8",
        "outputId": "4c94f147-9cf8-408d-ec63-9ac722528899"
      },
      "execution_count": 21,
      "outputs": [
        {
          "output_type": "stream",
          "name": "stdout",
          "text": [
            "1\n",
            "2\n"
          ]
        }
      ]
    },
    {
      "cell_type": "code",
      "source": [
        "se = pd.Series([1,-2,3,-4])\n",
        "\n",
        "se.map(abs)"
      ],
      "metadata": {
        "colab": {
          "base_uri": "https://localhost:8080/"
        },
        "id": "d5SSh6HR6QHn",
        "outputId": "4af70380-dd33-4da6-ab14-9d88a0bbe413"
      },
      "execution_count": 22,
      "outputs": [
        {
          "output_type": "execute_result",
          "data": {
            "text/plain": [
              "0    1\n",
              "1    2\n",
              "2    3\n",
              "3    4\n",
              "dtype: int64"
            ]
          },
          "metadata": {},
          "execution_count": 22
        }
      ]
    },
    {
      "cell_type": "code",
      "source": [
        "abs_cor = train_cor.map(abs)\n",
        "abs_cor"
      ],
      "metadata": {
        "colab": {
          "base_uri": "https://localhost:8080/"
        },
        "id": "5PsGK-7x6xjX",
        "outputId": "3b603efb-180c-423e-c101-2e8d7140e633"
      },
      "execution_count": 23,
      "outputs": [
        {
          "output_type": "execute_result",
          "data": {
            "text/plain": [
              "MPG             1.000000\n",
              "Cylinders       0.772369\n",
              "Displacement    0.807965\n",
              "Horsepower      0.788586\n",
              "Weight          0.828652\n",
              "Acceleration    0.462570\n",
              "Model Year      0.569262\n",
              "Origin          0.582215\n",
              "Name: MPG, dtype: float64"
            ]
          },
          "metadata": {},
          "execution_count": 23
        }
      ]
    },
    {
      "cell_type": "code",
      "source": [
        "abs_cor.sort_values(ascending = False)"
      ],
      "metadata": {
        "colab": {
          "base_uri": "https://localhost:8080/"
        },
        "id": "STOterSt6a7s",
        "outputId": "c4c47364-e265-4cb6-8392-72275ad7c2c0"
      },
      "execution_count": 24,
      "outputs": [
        {
          "output_type": "execute_result",
          "data": {
            "text/plain": [
              "MPG             1.000000\n",
              "Weight          0.828652\n",
              "Displacement    0.807965\n",
              "Horsepower      0.788586\n",
              "Cylinders       0.772369\n",
              "Origin          0.582215\n",
              "Model Year      0.569262\n",
              "Acceleration    0.462570\n",
              "Name: MPG, dtype: float64"
            ]
          },
          "metadata": {},
          "execution_count": 24
        }
      ]
    },
    {
      "cell_type": "markdown",
      "source": [
        "**スコアをたたきだす**"
      ],
      "metadata": {
        "id": "VTa4tfWpTw_d"
      }
    },
    {
      "cell_type": "code",
      "source": [
        "col = ['Weight','Displacement','Horsepower']\n",
        "x = train_val4[col]\n",
        "t = train_val4[['MPG']]\n",
        "\n",
        "x_train,x_val,y_train,y_val = train_test_split(x,t,test_size = 0.2,random_state=0)"
      ],
      "metadata": {
        "id": "7MtLAOTaU7j7"
      },
      "execution_count": 25,
      "outputs": []
    },
    {
      "cell_type": "code",
      "source": [
        "from sklearn.preprocessing import StandardScaler\n",
        "\n",
        "sc_model_x = StandardScaler()\n",
        "sc_model_x.fit(x_train)\n",
        "\n",
        "sc_x = sc_model_x.transform(x_train)\n",
        "sc_x"
      ],
      "metadata": {
        "colab": {
          "base_uri": "https://localhost:8080/"
        },
        "id": "ghYupxPSTwUs",
        "outputId": "3c9721e4-d360-4ee9-a89d-d335e10eeb86"
      },
      "execution_count": 26,
      "outputs": [
        {
          "output_type": "execute_result",
          "data": {
            "text/plain": [
              "array([[-9.76090308e-01, -9.31028993e-01, -9.83645855e-01],\n",
              "       [-1.12530316e+00, -1.04979137e+00, -1.03750162e+00],\n",
              "       [-2.89711198e-01, -1.09927570e+00,  1.74253032e-01],\n",
              "       [-8.86562598e-01, -6.83607368e-01, -4.72016114e-01],\n",
              "       [-9.64153280e-01, -7.92472883e-01, -6.33583400e-01],\n",
              "       [-1.06084321e+00, -1.10917256e+00, -9.02862211e-01],\n",
              "       [-8.82981490e-01, -1.00030705e+00, -8.75934330e-01],\n",
              "       [ 2.33130629e-01,  5.83191351e-01, -8.49006449e-01],\n",
              "       [ 1.12721403e+00,  3.95150916e-01,  1.74253032e-01],\n",
              "       [-9.99964364e-01, -9.21132128e-01, -9.02862211e-01],\n",
              "       [-4.38924048e-01, -1.78867254e-01,  3.08892438e-01],\n",
              "       [ 2.46261360e-01,  1.09782833e+00,  6.85882773e-01],\n",
              "       [-1.20886235e+00, -1.10917256e+00, -9.83645855e-01],\n",
              "       [ 1.78255686e+00,  1.57287785e+00,  1.52064709e+00],\n",
              "       [-1.39388629e+00, -9.90410183e-01, -1.36063619e+00],\n",
              "       [-1.32823263e+00, -9.90410183e-01, -9.83645855e-01],\n",
              "       [-7.91066374e-01, -7.13297963e-01, -1.75809422e-01],\n",
              "       [ 8.14463892e-01,  5.83191351e-01,  1.74253032e-01],\n",
              "       [ 1.40654048e+00,  1.09782833e+00,  9.82089465e-01],\n",
              "       [-1.10739762e+00, -1.04979137e+00, -1.38756407e+00],\n",
              "       [ 1.28836390e+00,  1.09782833e+00,  9.01305822e-01],\n",
              "       [ 4.80227108e-01,  6.82160001e-01,  1.74253032e-01],\n",
              "       [-9.93995850e-01, -9.31028993e-01, -4.18160352e-01],\n",
              "       [-2.11280677e-02, -6.93504233e-01, -1.48881541e-01],\n",
              "       [ 1.63811882e+00,  1.58277471e+00,  1.22444040e+00],\n",
              "       [ 2.74598826e-03,  8.83481011e-02, -4.98943995e-01],\n",
              "       [-7.31381234e-01, -8.22163478e-01, -7.68222806e-01],\n",
              "       [ 9.09960116e-01,  1.57287785e+00,  3.96136270e-02],\n",
              "       [-6.65727580e-01, -7.13297963e-01, -1.75809422e-01],\n",
              "       [-5.45163597e-01, -7.03401098e-01, -1.75809422e-01],\n",
              "       [ 3.22658339e-01,  3.35769726e-01, -9.50257785e-02],\n",
              "       [-9.22373682e-01, -9.31028993e-01, -6.87439163e-01],\n",
              "       [ 1.02455559e+00,  1.67184650e+00,  1.92456530e+00],\n",
              "       [-2.25251247e-01,  7.84512361e-02, -1.75809422e-01],\n",
              "       [-7.36509910e-02,  4.05047781e-01, -9.50257785e-02],\n",
              "       [ 1.67154250e+00,  1.58277471e+00,  1.46679133e+00],\n",
              "       [-1.18737570e+00, -1.01020391e+00, -1.17214102e+00],\n",
              "       [ 4.99326353e-01,  3.35769726e-01, -3.64304589e-01],\n",
              "       [-5.64262842e-01, -5.54948123e-01, -5.25871876e-01],\n",
              "       [ 1.33372461e+00,  1.25617817e+00,  9.82089465e-01],\n",
              "       [ 5.57817790e-01,  3.35769726e-01, -9.50257785e-02],\n",
              "       [ 2.11643978e-01, -2.77835904e-01,  5.78171249e-01],\n",
              "       [-1.10655778e-01, -5.05463798e-01, -4.18160352e-01],\n",
              "       [-1.44163440e+00, -1.10917256e+00, -1.22599678e+00],\n",
              "       [ 1.19286768e+00,  1.11762206e+00,  4.43531843e-01],\n",
              "       [-6.10817251e-01, -6.83607368e-01, -6.33583400e-01],\n",
              "       [-2.47931600e-01, -5.05463798e-01, -3.91232471e-01],\n",
              "       [ 2.29549520e-01,  8.83481011e-02, -2.29665184e-01],\n",
              "       [-4.85478457e-01, -3.96598283e-01, -3.64304589e-01],\n",
              "       [ 1.18451176e+00,  1.58277471e+00,  9.28233703e-01],\n",
              "       [ 3.59663126e-01,  3.35769726e-01, -2.29665184e-01],\n",
              "       [ 2.89234660e-01,  1.09782833e+00,  9.55161584e-01],\n",
              "       [-8.32845972e-01, -8.22163478e-01, -7.68222806e-01],\n",
              "       [-5.95299115e-01, -8.32060343e-01, -4.72016114e-01],\n",
              "       [ 2.10450276e-01,  5.83191351e-01, -4.18160352e-01],\n",
              "       [ 1.79210649e+00,  2.06772110e+00,  1.92456530e+00],\n",
              "       [ 9.21897144e-01,  1.25617817e+00,  9.82089465e-01],\n",
              "       [-3.48202635e-01, -6.93504233e-01,  3.08892438e-01],\n",
              "       [-9.60572172e-01, -7.42988558e-01, -7.68222806e-01],\n",
              "       [-1.34733188e+00, -9.31028993e-01, -1.17214102e+00],\n",
              "       [-3.39846715e-01, -3.96598283e-01, -3.64304589e-01],\n",
              "       [-1.17305127e+00, -8.51854073e-01, -7.95150687e-01],\n",
              "       [ 1.69422286e+00,  1.25617817e+00,  2.86704114e+00],\n",
              "       [-1.08829837e+00, -9.21132128e-01, -1.09135738e+00],\n",
              "       [-1.00593288e+00, -9.21132128e-01, -9.02862211e-01],\n",
              "       [ 1.16660622e+00,  1.25617817e+00,  1.25136828e+00],\n",
              "       [ 1.28084782e-01,  8.83481011e-02, -4.98943995e-01],\n",
              "       [-1.18498830e+00, -9.90410183e-01, -9.56717974e-01],\n",
              "       [ 9.76807473e-01,  5.83191351e-01, -9.50257785e-02],\n",
              "       [-7.79129346e-01, -6.83607368e-01, -4.98943995e-01],\n",
              "       [-9.64153280e-01, -9.21132128e-01, -9.56717974e-01],\n",
              "       [ 2.11201884e+00,  1.11762206e+00,  2.40926716e+00],\n",
              "       [ 1.16660622e+00,  1.67184650e+00,  1.25136828e+00],\n",
              "       [-9.23567385e-01, -9.40925858e-01, -9.29790092e-01],\n",
              "       [-8.44783000e-01, -9.21132128e-01, -6.60511281e-01],\n",
              "       [ 5.68561116e-01,  3.35769726e-01,  3.96136270e-02],\n",
              "       [-7.91066374e-01, -9.31028993e-01, -6.87439163e-01],\n",
              "       [ 1.78375057e+00,  1.25617817e+00,  1.25136828e+00],\n",
              "       [ 1.74197097e+00,  2.06772110e+00,  2.32848352e+00],\n",
              "       [ 2.54263415e-02, -1.98660984e-01, -1.75809422e-01],\n",
              "       [-8.92531112e-01, -8.51854073e-01, -1.09135738e+00],\n",
              "       [ 5.75723332e-01,  3.95150916e-01,  1.65528649e+00],\n",
              "       [-1.04687264e-01,  8.83481011e-02,  4.68480998e-03],\n",
              "       [-7.49286776e-01, -1.00030705e+00, -1.49527560e+00],\n",
              "       [-9.10436654e-01, -8.51854073e-01, -9.02862211e-01],\n",
              "       [-2.11280677e-02,  4.05047781e-01, -9.50257785e-02],\n",
              "       [ 1.42205862e+00,  1.58277471e+00,  1.33215192e+00],\n",
              "       [-3.91175936e-01, -7.03401098e-01, -7.95150687e-01],\n",
              "       [-5.02190296e-01, -7.03401098e-01, -7.68222806e-01],\n",
              "       [-1.29839006e+00, -1.03989451e+00, -1.06442950e+00],\n",
              "       [-8.32845972e-01, -9.21132128e-01, -3.64304589e-01],\n",
              "       [ 1.57007777e+00,  2.06772110e+00,  3.40559876e+00],\n",
              "       [ 1.11527700e+00,  5.83191351e-01,  3.96136270e-02],\n",
              "       [ 1.46503192e+00,  1.25617817e+00,  1.25136828e+00],\n",
              "       [-5.81328546e-02,  4.05047781e-01, -9.50257785e-02],\n",
              "       [ 1.99981077e+00,  1.09782833e+00,  9.82089465e-01],\n",
              "       [-8.56720028e-01, -8.22163478e-01, -9.02862211e-01],\n",
              "       [ 1.43518935e+00,  1.57287785e+00,  1.78992590e+00],\n",
              "       [ 1.49487449e+00,  1.12751893e+00,  9.82089465e-01],\n",
              "       [-1.56816690e+00, -1.13886316e+00, -1.38756407e+00],\n",
              "       [ 4.74258594e-01,  3.35769726e-01,  1.74253032e-01],\n",
              "       [ 2.37343975e+00,  2.61204867e+00,  3.27095936e+00],\n",
              "       [-1.20886235e+00, -9.31028993e-01, -1.54913136e+00],\n",
              "       [ 5.51849276e-01,  3.95150916e-01,  3.96136270e-02],\n",
              "       [-1.16111424e+00, -1.04979137e+00, -9.02862211e-01],\n",
              "       [-1.17901978e+00, -1.04979137e+00, -1.03750162e+00],\n",
              "       [-6.35885010e-01, -8.32060343e-01, -3.64304589e-01],\n",
              "       [ 1.11885811e+00,  1.57287785e+00,  5.78171249e-01],\n",
              "       [ 3.08333905e-01,  7.01953731e-01,  1.74253032e-01],\n",
              "       [ 2.12873068e+00,  2.06772110e+00,  1.78992590e+00],\n",
              "       [ 4.98132650e-01,  3.95150916e-01,  3.96136270e-02],\n",
              "       [ 1.69780396e+00,  2.06772110e+00,  1.92456530e+00],\n",
              "       [-1.16708276e+00, -1.00030705e+00, -1.49527560e+00],\n",
              "       [-8.77012976e-01, -7.72679153e-01, -2.29665184e-01],\n",
              "       [-3.85207422e-01, -7.82576018e-01, -4.18160352e-01],\n",
              "       [-3.92369639e-01,  4.05047781e-01, -9.50257785e-02],\n",
              "       [-1.05964950e+00, -9.21132128e-01, -5.52799757e-01],\n",
              "       [-9.24761088e-01, -9.31028993e-01, -6.87439163e-01],\n",
              "       [ 1.74555208e+00,  2.61204867e+00,  3.27095936e+00],\n",
              "       [-9.93995850e-01, -9.31028993e-01, -4.18160352e-01],\n",
              "       [-1.34494447e+00, -1.18834748e+00, -1.03750162e+00],\n",
              "       [ 1.35759867e+00,  1.57287785e+00,  1.92456530e+00],\n",
              "       [-1.20289384e+00, -9.90410183e-01, -9.02862211e-01],\n",
              "       [-6.80363414e-03, -7.03401098e-01, -4.18160352e-01],\n",
              "       [-1.22079938e+00, -9.31028993e-01, -6.87439163e-01],\n",
              "       [-4.15049992e-01, -7.13297963e-01, -9.50257785e-02],\n",
              "       [-1.51595537e-02, -6.93504233e-01, -9.83645855e-01],\n",
              "       [-9.53409955e-01, -9.21132128e-01, -6.33583400e-01],\n",
              "       [ 8.46693868e-01,  1.11762206e+00,  1.25136828e+00],\n",
              "       [ 1.02336188e+00, -2.28351579e-01,  4.43531843e-01],\n",
              "       [ 5.88500199e-02,  8.83481011e-02, -6.06655519e-01],\n",
              "       [-1.42014775e+00, -1.18834748e+00, -1.03750162e+00],\n",
              "       [ 7.24936182e-01,  1.09782833e+00,  9.55161584e-01],\n",
              "       [-3.91175936e-01, -3.96598283e-01, -5.25871876e-01],\n",
              "       [-3.49396338e-01, -3.96598283e-01, -3.64304589e-01],\n",
              "       [-6.82439419e-01, -8.22163478e-01, -2.83520946e-01],\n",
              "       [ 6.46151798e-01,  1.14731266e+00,  7.12810654e-01],\n",
              "       [ 5.99597388e-01,  3.35769726e-01, -4.98943995e-01],\n",
              "       [ 2.59904958e+00,  2.06772110e+00,  1.92456530e+00],\n",
              "       [-4.66379212e-01, -5.05463798e-01, -3.10448827e-01],\n",
              "       [-8.98499626e-01, -8.32060343e-01, -7.68222806e-01],\n",
              "       [ 3.19077230e-01, -4.95566933e-01, -6.33583400e-01],\n",
              "       [-4.03112964e-01, -7.03401098e-01, -6.60511281e-01],\n",
              "       [-7.01538664e-01, -8.61750938e-01, -2.29665184e-01],\n",
              "       [ 2.03562186e+00,  2.06772110e+00,  1.78992590e+00],\n",
              "       [-1.28561320e-01, -3.96598283e-01, -4.98943995e-01],\n",
              "       [-4.26987020e-01, -7.82576018e-01, -4.18160352e-01],\n",
              "       [-1.94214974e-01, -3.47113958e-01,  3.96136270e-02],\n",
              "       [-9.98770661e-01, -9.26080560e-01, -6.33583400e-01],\n",
              "       [-1.19095681e+00, -9.90410183e-01, -9.83645855e-01],\n",
              "       [ 5.64980007e-01,  1.25617817e+00,  1.25136828e+00],\n",
              "       [ 3.66825342e-01, -7.03401098e-01, -4.18160352e-01],\n",
              "       [-8.86562598e-01, -7.42988558e-01, -6.06655519e-01],\n",
              "       [-1.33420115e+00, -1.01020391e+00, -1.11828526e+00],\n",
              "       [-4.80703646e-01, -5.64844988e-01, -2.29665184e-01],\n",
              "       [-1.35807520e+00, -1.10917256e+00, -1.22599678e+00],\n",
              "       [ 7.96558350e-01,  3.35769726e-01, -9.50257785e-02],\n",
              "       [-1.16624292e-01, -5.05463798e-01, -3.10448827e-01],\n",
              "       [-6.95570150e-01, -9.21132128e-01, -1.03750162e+00],\n",
              "       [-1.38791777e+00, -9.90410183e-01, -1.17214102e+00],\n",
              "       [ 9.45771200e-01,  1.25617817e+00,  1.25136828e+00],\n",
              "       [ 1.39937826e+00,  1.25617817e+00,  1.25136828e+00],\n",
              "       [-8.16134133e-01, -9.31028993e-01, -4.18160352e-01],\n",
              "       [-6.29076658e-02, -2.28351579e-01,  7.66666417e-01],\n",
              "       [-6.62146472e-01, -5.05463798e-01, -8.49006449e-01],\n",
              "       [ 4.65902675e-01,  5.83191351e-01,  3.96136270e-02],\n",
              "       [-4.62798104e-01, -7.82576018e-01, -4.98943995e-01],\n",
              "       [ 1.33014350e+00,  1.25617817e+00,  1.25136828e+00],\n",
              "       [-1.13043183e-01, -6.93504233e-01,  2.28108795e-01],\n",
              "       [ 3.25885583e-02,  8.83481011e-02, -4.98943995e-01],\n",
              "       [-9.08049248e-01, -8.91441533e-01, -5.52799757e-01],\n",
              "       [ 1.88963625e-01,  3.35769726e-01,  3.96136270e-02],\n",
              "       [-1.30793969e+00, -1.21803808e+00, -1.46834771e+00],\n",
              "       [ 3.60856828e-01,  4.05047781e-01, -3.64304589e-01],\n",
              "       [ 4.81066947e-02, -3.96598283e-01, -3.64304589e-01],\n",
              "       [-8.05390808e-01, -9.31028993e-01, -3.10448827e-01],\n",
              "       [-5.39195083e-01, -6.93504233e-01, -7.41294925e-01],\n",
              "       [-1.16708276e+00, -9.90410183e-01, -9.56717974e-01],\n",
              "       [ 1.30388204e+00,  1.57287785e+00,  1.11672887e+00],\n",
              "       [-1.06561802e+00, -1.04979137e+00, -9.02862211e-01],\n",
              "       [ 3.36982772e-01,  3.95150916e-01,  3.08892438e-01],\n",
              "       [ 2.23581006e-01, -6.04432448e-01, -4.11700163e-02],\n",
              "       [-1.34613818e+00, -9.31028993e-01, -1.54913136e+00],\n",
              "       [ 2.07262664e+00,  1.57287785e+00,  1.25136828e+00],\n",
              "       [-1.00235177e+00, -7.42988558e-01, -3.64304589e-01],\n",
              "       [-1.16708276e+00, -9.31028993e-01, -9.83645855e-01],\n",
              "       [-1.14917721e+00, -1.10917256e+00, -9.83645855e-01],\n",
              "       [-3.20747471e-01, -7.52885423e-01, -2.29665184e-01],\n",
              "       [ 3.81149776e-01,  5.83191351e-01, -9.50257785e-02],\n",
              "       [ 6.77188070e-01, -7.98986037e-02, -7.14367044e-01],\n",
              "       [-5.22483244e-01, -5.54948123e-01, -5.25871876e-01],\n",
              "       [ 3.42951286e-01, -4.46082608e-01, -9.83645855e-01],\n",
              "       [-5.34420272e-01, -5.64844988e-01, -2.29665184e-01],\n",
              "       [-4.50861076e-01, -3.47113958e-01, -3.10448827e-01],\n",
              "       [-4.09081478e-01, -3.47113958e-01, -3.10448827e-01],\n",
              "       [ 2.74910227e-01,  6.62366271e-01, -2.29665184e-01],\n",
              "       [ 1.10930848e+00,  1.11762206e+00,  1.25136828e+00],\n",
              "       [-1.52435376e-01,  4.05047781e-01,  2.28108795e-01],\n",
              "       [ 9.15928630e-01,  6.62366271e-01,  1.74253032e-01],\n",
              "       [-2.65837142e-01, -3.96598283e-01, -4.18160352e-01],\n",
              "       [-4.48473670e-01,  8.83481011e-02, -4.98943995e-01],\n",
              "       [ 2.01891002e+00,  1.67184650e+00,  1.78992590e+00],\n",
              "       [ 1.04723594e+00,  1.12751893e+00,  7.12810654e-01],\n",
              "       [ 1.54501001e+00,  1.11762206e+00,  1.25136828e+00],\n",
              "       [-1.39388629e+00, -9.90410183e-01, -1.36063619e+00],\n",
              "       [ 2.35518034e-01, -4.55979473e-01, -7.41294925e-01],\n",
              "       [ 1.09498405e+00,  1.12751893e+00,  1.11672887e+00],\n",
              "       [-7.00698826e-02,  6.85543711e-02, -2.29665184e-01],\n",
              "       [-1.09426689e+00, -9.21132128e-01,  4.68480998e-03],\n",
              "       [-3.75657799e-01,  7.84512361e-02, -3.64304589e-01],\n",
              "       [ 9.72032662e-01,  1.25617817e+00,  1.25136828e+00],\n",
              "       [ 5.61398899e-01,  1.11762206e+00,  1.25136828e+00],\n",
              "       [-6.96763853e-01, -8.22163478e-01, -2.56593065e-01],\n",
              "       [ 6.71219556e-01,  5.83191351e-01, -1.48881541e-01],\n",
              "       [ 5.20813004e-01,  1.25617817e+00,  1.25136828e+00],\n",
              "       [ 1.35282386e+00,  1.25617817e+00,  1.25136828e+00],\n",
              "       [-1.22438049e+00, -1.00030705e+00, -9.02862211e-01],\n",
              "       [ 1.08304702e+00,  1.09782833e+00,  7.12810654e-01],\n",
              "       [ 1.99384226e+00,  2.35473018e+00,  2.81318538e+00],\n",
              "       [ 1.66283272e-01,  6.85543711e-02, -2.29665184e-01],\n",
              "       [-8.03003402e-01, -8.32060343e-01, -8.49006449e-01],\n",
              "       [-1.22438049e+00, -1.00030705e+00, -9.02862211e-01],\n",
              "       [-6.88761798e-02, -5.05463798e-01,  4.68480998e-03],\n",
              "       [-5.52325814e-01, -6.83607368e-01, -4.18160352e-01],\n",
              "       [ 5.33943734e-01, -2.77835904e-01,  7.93594298e-01],\n",
              "       [-3.00454523e-01, -5.64844988e-01, -3.64304589e-01],\n",
              "       [ 1.35521126e+00,  1.14731266e+00,  7.12810654e-01],\n",
              "       [ 8.46693868e-01,  1.11762206e+00,  1.25136828e+00],\n",
              "       [-1.02980693e+00, -9.31028993e-01, -4.18160352e-01],\n",
              "       [-3.90336098e-02, -3.47113958e-01,  1.20397270e-01],\n",
              "       [ 1.30268834e+00,  1.58277471e+00,  1.03594523e+00],\n",
              "       [ 1.50084300e+00,  2.06772110e+00,  2.05920471e+00],\n",
              "       [-1.51595537e-02, -3.96598283e-01, -3.64304589e-01],\n",
              "       [ 1.76345762e+00,  1.57287785e+00,  1.11672887e+00],\n",
              "       [ 1.22390395e+00,  1.57287785e+00,  1.11672887e+00],\n",
              "       [ 6.83156584e-01,  3.95150916e-01,  3.96136270e-02],\n",
              "       [-4.32955534e-01, -6.93504233e-01,  1.74253032e-01],\n",
              "       [-1.01786991e+00, -1.03989451e+00, -1.03750162e+00],\n",
              "       [-6.77664608e-01, -6.83607368e-01, -4.72016114e-01],\n",
              "       [-9.45054035e-01, -9.31028993e-01, -7.68222806e-01],\n",
              "       [-2.06152002e-01, -5.05463798e-01, -4.72016114e-01],\n",
              "       [-8.79400381e-01, -6.83607368e-01, -4.72016114e-01],\n",
              "       [ 1.97235561e+00,  1.67184650e+00,  3.00168055e+00],\n",
              "       [-1.35807520e+00, -9.31028993e-01, -8.75934330e-01],\n",
              "       [ 1.03529891e+00,  1.25617817e+00,  8.47450060e-01],\n",
              "       [ 1.56530295e+00,  1.57287785e+00,  1.65528649e+00],\n",
              "       [-9.99964364e-01, -8.51854073e-01, -1.09135738e+00],\n",
              "       [ 7.71490592e-01,  1.47390920e+00,  1.52064709e+00],\n",
              "       [ 7.66715780e-01,  7.51438055e-01,  5.78171249e-01],\n",
              "       [-7.67192318e-01, -9.01338398e-01,  4.68480998e-03],\n",
              "       [-7.91066374e-01, -6.83607368e-01, -2.02737303e-01],\n",
              "       [-1.09546059e+00, -9.21132128e-01, -9.56717974e-01],\n",
              "       [-9.64153280e-01, -9.31028993e-01, -7.68222806e-01]])"
            ]
          },
          "metadata": {},
          "execution_count": 26
        }
      ]
    },
    {
      "cell_type": "code",
      "source": [
        "tmp_df = pd.DataFrame(sc_x,columns = x_train.columns)\n",
        "\n",
        "tmp_df.mean()"
      ],
      "metadata": {
        "colab": {
          "base_uri": "https://localhost:8080/"
        },
        "id": "5Ccs5mk5U3Ux",
        "outputId": "92d6cea8-23b0-45b8-cb74-15be55cb61c9"
      },
      "execution_count": 27,
      "outputs": [
        {
          "output_type": "execute_result",
          "data": {
            "text/plain": [
              "Weight          1.799176e-17\n",
              "Displacement   -1.158494e-16\n",
              "Horsepower      2.031752e-16\n",
              "dtype: float64"
            ]
          },
          "metadata": {},
          "execution_count": 27
        }
      ]
    },
    {
      "cell_type": "code",
      "source": [
        "tmp_df.std()"
      ],
      "metadata": {
        "colab": {
          "base_uri": "https://localhost:8080/"
        },
        "id": "rGoJj33SWrQY",
        "outputId": "7fff01c3-32c3-4628-a103-3e966c059eb3"
      },
      "execution_count": 28,
      "outputs": [
        {
          "output_type": "execute_result",
          "data": {
            "text/plain": [
              "Weight          1.001982\n",
              "Displacement    1.001982\n",
              "Horsepower      1.001982\n",
              "dtype: float64"
            ]
          },
          "metadata": {},
          "execution_count": 28
        }
      ]
    },
    {
      "cell_type": "code",
      "source": [
        "sc_model_y = StandardScaler()\n",
        "sc_model_y.fit(y_train)\n",
        "\n",
        "sc_y = sc_model_y.transform(y_train)"
      ],
      "metadata": {
        "id": "iRxTENP7W4gC"
      },
      "execution_count": 29,
      "outputs": []
    },
    {
      "cell_type": "markdown",
      "source": [
        "**モデルの作成と学習**"
      ],
      "metadata": {
        "id": "ytp-6azFXwez"
      }
    },
    {
      "cell_type": "code",
      "source": [
        "model = LinearRegression()\n",
        "model.fit(sc_x,sc_y)"
      ],
      "metadata": {
        "colab": {
          "base_uri": "https://localhost:8080/"
        },
        "id": "1y8uOu4aXHlQ",
        "outputId": "62ba320a-4471-47cc-f954-e556feb2e46b"
      },
      "execution_count": 30,
      "outputs": [
        {
          "output_type": "execute_result",
          "data": {
            "text/plain": [
              "LinearRegression()"
            ]
          },
          "metadata": {},
          "execution_count": 30
        }
      ]
    },
    {
      "cell_type": "code",
      "source": [
        "model.score(x_val,y_val)"
      ],
      "metadata": {
        "colab": {
          "base_uri": "https://localhost:8080/"
        },
        "id": "5ynCfT3BX6pY",
        "outputId": "77cd3686-2826-4bdc-c3b4-562ab4e07331"
      },
      "execution_count": 31,
      "outputs": [
        {
          "output_type": "stream",
          "name": "stderr",
          "text": [
            "/usr/local/lib/python3.7/dist-packages/sklearn/base.py:444: UserWarning: X has feature names, but LinearRegression was fitted without feature names\n",
            "  f\"X has feature names, but {self.__class__.__name__} was fitted without\"\n"
          ]
        },
        {
          "output_type": "execute_result",
          "data": {
            "text/plain": [
              "-34905.89196917619"
            ]
          },
          "metadata": {},
          "execution_count": 31
        }
      ]
    },
    {
      "cell_type": "code",
      "source": [
        "sc_x_val = sc_model_x.transform(x_val)"
      ],
      "metadata": {
        "id": "-oLnTkZ4Ym6k"
      },
      "execution_count": 32,
      "outputs": []
    },
    {
      "cell_type": "code",
      "source": [
        "sc_y_val = sc_model_y.transform(y_val)\n",
        "\n",
        "model.score(sc_x_val,sc_y_val)"
      ],
      "metadata": {
        "colab": {
          "base_uri": "https://localhost:8080/"
        },
        "id": "fEppR14jZcyD",
        "outputId": "cbc8d40a-f544-4bc4-bcc1-ae930613a0d3"
      },
      "execution_count": 33,
      "outputs": [
        {
          "output_type": "execute_result",
          "data": {
            "text/plain": [
              "0.684668987490802"
            ]
          },
          "metadata": {},
          "execution_count": 33
        }
      ]
    },
    {
      "cell_type": "code",
      "source": [
        "sc_model_x2 = StandardScaler()\n",
        "sc_model_x2.fit(x_val)\n",
        "sc_x_val = sc_model_x2.transform(x_val)\n",
        "sc_model_y2 = StandardScaler()\n",
        "sc_model_y2.fit(y_val)\n",
        "sc_y_val = sc_model_y2.transform(y_val)\n",
        "model.score(sc_x_val,sc_y_val)\n"
      ],
      "metadata": {
        "colab": {
          "base_uri": "https://localhost:8080/"
        },
        "id": "VaC3U8qKZsZM",
        "outputId": "ec4a0a1a-2a15-4c93-90ac-044b294fc1f5"
      },
      "execution_count": 34,
      "outputs": [
        {
          "output_type": "execute_result",
          "data": {
            "text/plain": [
              "0.6879762147422754"
            ]
          },
          "metadata": {},
          "execution_count": 34
        }
      ]
    },
    {
      "cell_type": "code",
      "source": [
        "def learn(x,t):\n",
        "  x_train,x_val,y_train,y_val = train_test_split(x,t,test_size = 0.2,random_state=0)\n",
        "\n",
        "  sc_model_x = StandardScaler()\n",
        "  sc_model_y = StandardScaler()\n",
        "  sc_model_x.fit(x_train)\n",
        "  sc_x_train = sc_model_x.transform(x_train)\n",
        "  sc_model_y.fit(y_train)\n",
        "  sc_y_train = sc_model_y.transform(y_train)\n",
        "\n",
        "  model = LinearRegression()\n",
        "  model.fit(sc_x_train,sc_y_train)\n",
        "  sc_x_val = sc_model_x.transform(x_val)\n",
        "  sc_y_val = sc_model_y.transform(y_val)\n",
        "\n",
        "  train_score = model.score(sc_x_train,sc_y_train)\n",
        "  val_score = model.score(sc_x_val,sc_y_val)\n",
        "\n",
        "  return train_score,val_score\n"
      ],
      "metadata": {
        "id": "7awEJdlWabBq"
      },
      "execution_count": 55,
      "outputs": []
    },
    {
      "cell_type": "code",
      "source": [
        "x = train_val3.loc[:,['Weight','Displacement','Horsepower']]\n",
        "t = train_val3[['MPG']]\n",
        "\n",
        "s1,s2 = learn(x,t)\n",
        "print(s1,s2)\n"
      ],
      "metadata": {
        "colab": {
          "base_uri": "https://localhost:8080/"
        },
        "id": "Q1jJ7dMQfCSd",
        "outputId": "d2f25fba-8bfe-4ada-9825-aec26b8b3afe"
      },
      "execution_count": 56,
      "outputs": [
        {
          "output_type": "stream",
          "name": "stdout",
          "text": [
            "0.7144606277778914 0.684668987490802\n"
          ]
        }
      ]
    },
    {
      "cell_type": "code",
      "source": [
        "x = train_val3.loc[:,['Weight','Displacement','Horsepower','Cylinders']]\n",
        "t = train_val3[['MPG']]\n",
        "s1,s2 = learn(x,t)\n",
        "print(s1,s2)"
      ],
      "metadata": {
        "colab": {
          "base_uri": "https://localhost:8080/"
        },
        "id": "bIskvRwljimc",
        "outputId": "35a1b258-efee-41af-d222-1b1b05cb7694"
      },
      "execution_count": 57,
      "outputs": [
        {
          "output_type": "stream",
          "name": "stdout",
          "text": [
            "0.716437940863518 0.6765610506100268\n"
          ]
        }
      ]
    },
    {
      "cell_type": "code",
      "source": [
        "x['Weight'] ** 2"
      ],
      "metadata": {
        "colab": {
          "base_uri": "https://localhost:8080/"
        },
        "id": "APJFPP4Ip8x_",
        "outputId": "d73d0ffe-fc4e-418c-841a-404ce9c97f84"
      },
      "execution_count": 59,
      "outputs": [
        {
          "output_type": "execute_result",
          "data": {
            "text/plain": [
              "64     17098225\n",
              "55      3363556\n",
              "317     4787344\n",
              "102     3802500\n",
              "358     6943225\n",
              "         ...   \n",
              "323     7840000\n",
              "192    11242609\n",
              "117     3485689\n",
              "47     10771524\n",
              "172     4941729\n",
              "Name: Weight, Length: 317, dtype: int64"
            ]
          },
          "metadata": {},
          "execution_count": 59
        }
      ]
    },
    {
      "cell_type": "code",
      "source": [
        "x['Weight2'] = x['Weight'] ** 2\n",
        "\n",
        "x.head(2)"
      ],
      "metadata": {
        "colab": {
          "base_uri": "https://localhost:8080/",
          "height": 112
        },
        "id": "KjfYKjItqCV4",
        "outputId": "28420335-da43-4553-ac97-ec4d02a0131a"
      },
      "execution_count": 67,
      "outputs": [
        {
          "output_type": "execute_result",
          "data": {
            "text/plain": [
              "    Weight  Displacement  Horsepower   Weight2\n",
              "64    4135         318.0       150.0  17098225\n",
              "55    1834          97.0        60.0   3363556"
            ],
            "text/html": [
              "\n",
              "  <div id=\"df-25ba9e35-3885-418f-8730-bd3faca88289\">\n",
              "    <div class=\"colab-df-container\">\n",
              "      <div>\n",
              "<style scoped>\n",
              "    .dataframe tbody tr th:only-of-type {\n",
              "        vertical-align: middle;\n",
              "    }\n",
              "\n",
              "    .dataframe tbody tr th {\n",
              "        vertical-align: top;\n",
              "    }\n",
              "\n",
              "    .dataframe thead th {\n",
              "        text-align: right;\n",
              "    }\n",
              "</style>\n",
              "<table border=\"1\" class=\"dataframe\">\n",
              "  <thead>\n",
              "    <tr style=\"text-align: right;\">\n",
              "      <th></th>\n",
              "      <th>Weight</th>\n",
              "      <th>Displacement</th>\n",
              "      <th>Horsepower</th>\n",
              "      <th>Weight2</th>\n",
              "    </tr>\n",
              "  </thead>\n",
              "  <tbody>\n",
              "    <tr>\n",
              "      <th>64</th>\n",
              "      <td>4135</td>\n",
              "      <td>318.0</td>\n",
              "      <td>150.0</td>\n",
              "      <td>17098225</td>\n",
              "    </tr>\n",
              "    <tr>\n",
              "      <th>55</th>\n",
              "      <td>1834</td>\n",
              "      <td>97.0</td>\n",
              "      <td>60.0</td>\n",
              "      <td>3363556</td>\n",
              "    </tr>\n",
              "  </tbody>\n",
              "</table>\n",
              "</div>\n",
              "      <button class=\"colab-df-convert\" onclick=\"convertToInteractive('df-25ba9e35-3885-418f-8730-bd3faca88289')\"\n",
              "              title=\"Convert this dataframe to an interactive table.\"\n",
              "              style=\"display:none;\">\n",
              "        \n",
              "  <svg xmlns=\"http://www.w3.org/2000/svg\" height=\"24px\"viewBox=\"0 0 24 24\"\n",
              "       width=\"24px\">\n",
              "    <path d=\"M0 0h24v24H0V0z\" fill=\"none\"/>\n",
              "    <path d=\"M18.56 5.44l.94 2.06.94-2.06 2.06-.94-2.06-.94-.94-2.06-.94 2.06-2.06.94zm-11 1L8.5 8.5l.94-2.06 2.06-.94-2.06-.94L8.5 2.5l-.94 2.06-2.06.94zm10 10l.94 2.06.94-2.06 2.06-.94-2.06-.94-.94-2.06-.94 2.06-2.06.94z\"/><path d=\"M17.41 7.96l-1.37-1.37c-.4-.4-.92-.59-1.43-.59-.52 0-1.04.2-1.43.59L10.3 9.45l-7.72 7.72c-.78.78-.78 2.05 0 2.83L4 21.41c.39.39.9.59 1.41.59.51 0 1.02-.2 1.41-.59l7.78-7.78 2.81-2.81c.8-.78.8-2.07 0-2.86zM5.41 20L4 18.59l7.72-7.72 1.47 1.35L5.41 20z\"/>\n",
              "  </svg>\n",
              "      </button>\n",
              "      \n",
              "  <style>\n",
              "    .colab-df-container {\n",
              "      display:flex;\n",
              "      flex-wrap:wrap;\n",
              "      gap: 12px;\n",
              "    }\n",
              "\n",
              "    .colab-df-convert {\n",
              "      background-color: #E8F0FE;\n",
              "      border: none;\n",
              "      border-radius: 50%;\n",
              "      cursor: pointer;\n",
              "      display: none;\n",
              "      fill: #1967D2;\n",
              "      height: 32px;\n",
              "      padding: 0 0 0 0;\n",
              "      width: 32px;\n",
              "    }\n",
              "\n",
              "    .colab-df-convert:hover {\n",
              "      background-color: #E2EBFA;\n",
              "      box-shadow: 0px 1px 2px rgba(60, 64, 67, 0.3), 0px 1px 3px 1px rgba(60, 64, 67, 0.15);\n",
              "      fill: #174EA6;\n",
              "    }\n",
              "\n",
              "    [theme=dark] .colab-df-convert {\n",
              "      background-color: #3B4455;\n",
              "      fill: #D2E3FC;\n",
              "    }\n",
              "\n",
              "    [theme=dark] .colab-df-convert:hover {\n",
              "      background-color: #434B5C;\n",
              "      box-shadow: 0px 1px 3px 1px rgba(0, 0, 0, 0.15);\n",
              "      filter: drop-shadow(0px 1px 2px rgba(0, 0, 0, 0.3));\n",
              "      fill: #FFFFFF;\n",
              "    }\n",
              "  </style>\n",
              "\n",
              "      <script>\n",
              "        const buttonEl =\n",
              "          document.querySelector('#df-25ba9e35-3885-418f-8730-bd3faca88289 button.colab-df-convert');\n",
              "        buttonEl.style.display =\n",
              "          google.colab.kernel.accessAllowed ? 'block' : 'none';\n",
              "\n",
              "        async function convertToInteractive(key) {\n",
              "          const element = document.querySelector('#df-25ba9e35-3885-418f-8730-bd3faca88289');\n",
              "          const dataTable =\n",
              "            await google.colab.kernel.invokeFunction('convertToInteractive',\n",
              "                                                     [key], {});\n",
              "          if (!dataTable) return;\n",
              "\n",
              "          const docLinkHtml = 'Like what you see? Visit the ' +\n",
              "            '<a target=\"_blank\" href=https://colab.research.google.com/notebooks/data_table.ipynb>data table notebook</a>'\n",
              "            + ' to learn more about interactive tables.';\n",
              "          element.innerHTML = '';\n",
              "          dataTable['output_type'] = 'display_data';\n",
              "          await google.colab.output.renderOutput(dataTable, element);\n",
              "          const docLink = document.createElement('div');\n",
              "          docLink.innerHTML = docLinkHtml;\n",
              "          element.appendChild(docLink);\n",
              "        }\n",
              "      </script>\n",
              "    </div>\n",
              "  </div>\n",
              "  "
            ]
          },
          "metadata": {},
          "execution_count": 67
        }
      ]
    },
    {
      "cell_type": "code",
      "source": [
        "s1,s2=learn(x,t)\n",
        "print(s1,s2)"
      ],
      "metadata": {
        "colab": {
          "base_uri": "https://localhost:8080/"
        },
        "id": "GLZfUTXTq4J6",
        "outputId": "8b4b45d1-2089-4233-eb66-f85402fdabe1"
      },
      "execution_count": 68,
      "outputs": [
        {
          "output_type": "stream",
          "name": "stdout",
          "text": [
            "0.7379970874651185 0.7272442049922678\n"
          ]
        }
      ]
    },
    {
      "cell_type": "code",
      "source": [
        "x['Weight2'] = x['Weight'] ** 4\n"
      ],
      "metadata": {
        "id": "ENNHLOiOrQ0a"
      },
      "execution_count": 85,
      "outputs": []
    },
    {
      "cell_type": "code",
      "source": [
        "s1,s2=learn(x,t)\n",
        "print(s1,s2)"
      ],
      "metadata": {
        "colab": {
          "base_uri": "https://localhost:8080/"
        },
        "id": "rRQjKRfJrkZ_",
        "outputId": "2ccc9f2d-1a73-4b6e-ab11-74d7b4bf181d"
      },
      "execution_count": 86,
      "outputs": [
        {
          "output_type": "stream",
          "name": "stdout",
          "text": [
            "0.7375756650094436 0.7237906672955594\n"
          ]
        }
      ]
    },
    {
      "cell_type": "code",
      "source": [
        ""
      ],
      "metadata": {
        "id": "06w5wl7DrmLl"
      },
      "execution_count": null,
      "outputs": []
    }
  ]
}